{
 "cells": [
  {
   "cell_type": "markdown",
   "id": "c502d55d-b0dc-4d94-b0a6-7ea56ba823cf",
   "metadata": {},
   "source": [
    "# H1:Data Science Tools and Ecosystem"
   ]
  },
  {
   "cell_type": "markdown",
   "id": "b71548c5-13cb-488e-9cc8-d75fbd881fec",
   "metadata": {},
   "source": [
    "In this notebook, Data Science Tools and Ecosystem are summarized"
   ]
  },
  {
   "cell_type": "markdown",
   "id": "33d0b618-c24e-4d40-b739-69b9866f150e",
   "metadata": {},
   "source": [
    "**Objectives**\n",
    "List commonly used languages\n",
    "List commonly used libraries\n",
    "Open Development Environment\n",
    "Perform artimetic operations"
   ]
  },
  {
   "cell_type": "code",
   "execution_count": 8,
   "id": "4e0ae32a-5b62-43c0-b1fe-6c28cf843517",
   "metadata": {},
   "outputs": [
    {
     "data": {
      "text/plain": [
       "['Paython', 'R', 'JS']"
      ]
     },
     "execution_count": 8,
     "metadata": {},
     "output_type": "execute_result"
    }
   ],
   "source": [
    "languages = ['Paython','R','JS']\n",
    "languages"
   ]
  },
  {
   "cell_type": "markdown",
   "id": "2d113f94-d4f2-452c-9f3e-f1da01510d20",
   "metadata": {},
   "source": [
    "Some of the commonly used libraries used by Data Scientists include:"
   ]
  },
  {
   "cell_type": "code",
   "execution_count": 11,
   "id": "63db1f51-d749-4f4d-a212-2eb42131335c",
   "metadata": {},
   "outputs": [
    {
     "data": {
      "text/plain": [
       "['panda', 'numpy', 'matplotlib']"
      ]
     },
     "execution_count": 11,
     "metadata": {},
     "output_type": "execute_result"
    }
   ],
   "source": [
    "libraries = ['panda','numpy','matplotlib']\n",
    "libraries"
   ]
  },
  {
   "cell_type": "markdown",
   "id": "d722b4e8-463f-4138-99ed-d801cfe83f4c",
   "metadata": {},
   "source": [
    "markdown cell with a table of Data Science tools\n",
    "|Data Science Tools|\n",
    "-----------------\n",
    "|Jupiter lab|\n",
    "|R Studio|\n",
    "|VS Code|"
   ]
  },
  {
   "cell_type": "code",
   "execution_count": 18,
   "id": "f26a346b-c2f5-4ba6-bef5-dccda86139a2",
   "metadata": {},
   "outputs": [],
   "source": [
    "### H3: Below are a few examples of evaluating arithmetic expressions in Python"
   ]
  },
  {
   "cell_type": "code",
   "execution_count": 20,
   "id": "ba7f6cc5-d6ba-46ae-95fa-2bf943df0e4f",
   "metadata": {},
   "outputs": [
    {
     "data": {
      "text/plain": [
       "17"
      ]
     },
     "execution_count": 20,
     "metadata": {},
     "output_type": "execute_result"
    }
   ],
   "source": [
    "#This a simple arithmetic expression to mutiply then add integers\n",
    "(3*4)+5"
   ]
  },
  {
   "cell_type": "code",
   "execution_count": 22,
   "id": "bb2a9413-37c4-4f14-8020-b4e755e05032",
   "metadata": {},
   "outputs": [
    {
     "name": "stdout",
     "output_type": "stream",
     "text": [
      "3.3333333333333335\n"
     ]
    }
   ],
   "source": [
    "#This will convert 200 minutes to hours by diving by 60\n",
    "hrs = 200/60\n",
    "print(hrs)"
   ]
  },
  {
   "cell_type": "markdown",
   "id": "98633a19-943b-49fe-babd-c7a7ed4bd580",
   "metadata": {},
   "source": [
    "## H2 : Author\n",
    "Rishu Jain"
   ]
  },
  {
   "cell_type": "code",
   "execution_count": null,
   "id": "e0cd9bda-e2a6-42a8-8e9f-c9271882c9b3",
   "metadata": {},
   "outputs": [],
   "source": []
  }
 ],
 "metadata": {
  "kernelspec": {
   "display_name": "Python 3 (ipykernel)",
   "language": "python",
   "name": "python3"
  },
  "language_info": {
   "codemirror_mode": {
    "name": "ipython",
    "version": 3
   },
   "file_extension": ".py",
   "mimetype": "text/x-python",
   "name": "python",
   "nbconvert_exporter": "python",
   "pygments_lexer": "ipython3",
   "version": "3.11.7"
  }
 },
 "nbformat": 4,
 "nbformat_minor": 5
}
